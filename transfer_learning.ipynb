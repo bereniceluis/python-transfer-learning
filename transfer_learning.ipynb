{
 "cells": [
  {
   "attachments": {},
   "cell_type": "markdown",
   "metadata": {},
   "source": [
    "Libraries"
   ]
  },
  {
   "cell_type": "code",
   "execution_count": 1,
   "metadata": {},
   "outputs": [],
   "source": [
    "# for images\n",
    "import os, cv2\n",
    "import numpy as np\n",
    "import tensorflow as tf\n",
    "from sklearn.model_selection import train_test_split\n",
    "from tensorflow.keras.preprocessing.image import ImageDataGenerator\n",
    "# custom classes for specific purposes\n",
    "from processor.data_loader import DataLoader\n",
    "from processor.pre_processor import DatasetPreprocessor\n",
    "from processor.build_model import TransferLearningModel\n",
    "# for transfer learning\n",
    "from tensorflow import keras\n",
    "from tensorflow.keras.models import Sequential\n",
    "from tensorflow.keras.applications.mobilenet_v2 import MobileNetV2\n",
    "from tensorflow.keras.layers import Dense, GlobalAveragePooling2D, Dropout\n",
    "from tensorflow.keras.models import Model\n",
    "from tensorflow.keras.optimizers import Adam\n",
    "from sklearn.preprocessing import LabelEncoder"
   ]
  },
  {
   "attachments": {},
   "cell_type": "markdown",
   "metadata": {},
   "source": [
    "GPU"
   ]
  },
  {
   "cell_type": "code",
   "execution_count": 2,
   "metadata": {},
   "outputs": [],
   "source": [
    "# Set the CUDA device order (optional)\n",
    "tf.config.set_visible_devices(tf.config.list_physical_devices('GPU'), 'GPU')\n",
    "\n",
    "# Enable GPU growth\n",
    "for gpu in tf.config.list_physical_devices('GPU'):\n",
    "    tf.config.experimental.set_memory_growth(gpu, True)"
   ]
  },
  {
   "attachments": {},
   "cell_type": "markdown",
   "metadata": {},
   "source": [
    "Folder paths"
   ]
  },
  {
   "cell_type": "code",
   "execution_count": 3,
   "metadata": {},
   "outputs": [],
   "source": [
    "data_dir = \"data\"\n",
    "dataset_dir = os.path.join(data_dir, \"dataset\")\n",
    "dataset_2_dir = os.path.join(data_dir, \"dataset_2\")\n",
    "\n",
    "output_dir = os.path.join(data_dir, \"augmented_images\")\n",
    "labels_path = os.path.join(data_dir, \"labels\", \"names.json\")\n",
    "\n",
    "partition_path = os.path.join(data_dir, \"partition\")\n",
    "train_dir = os.path.join(partition_path, 'train')\n",
    "val_dir = os.path.join(partition_path, 'val')"
   ]
  },
  {
   "attachments": {},
   "cell_type": "markdown",
   "metadata": {},
   "source": [
    "Classes"
   ]
  },
  {
   "cell_type": "code",
   "execution_count": 4,
   "metadata": {},
   "outputs": [],
   "source": [
    "preprocessor = DatasetPreprocessor(dataset_dir)\n",
    "data_loader = DataLoader(dataset_dir, labels_path)"
   ]
  },
  {
   "attachments": {},
   "cell_type": "markdown",
   "metadata": {},
   "source": [
    "Pre-processing"
   ]
  },
  {
   "cell_type": "code",
   "execution_count": 12,
   "metadata": {},
   "outputs": [],
   "source": [
    "preprocessor.rename_images()\n",
    "preprocessor.augment_dataset(output_dir)\n",
    "preprocessor.generate_labels(labels_path)"
   ]
  },
  {
   "attachments": {},
   "cell_type": "markdown",
   "metadata": {},
   "source": [
    "Transfer Learning"
   ]
  },
  {
   "cell_type": "code",
   "execution_count": 5,
   "metadata": {},
   "outputs": [],
   "source": [
    "transfer_model = TransferLearningModel(train_dir=train_dir, val_dir=val_dir, batch_size=32)"
   ]
  },
  {
   "attachments": {},
   "cell_type": "markdown",
   "metadata": {},
   "source": [
    "20 epochs"
   ]
  },
  {
   "cell_type": "code",
   "execution_count": 6,
   "metadata": {},
   "outputs": [
    {
     "name": "stdout",
     "output_type": "stream",
     "text": [
      "Found 10960 images belonging to 23 classes.\n",
      "Found 2756 images belonging to 23 classes.\n",
      "Epoch 1/20\n",
      "343/343 [==============================] - 38s 82ms/step - loss: 0.4392 - categorical_accuracy: 0.9123 - top-3: 0.9632 - ROC-AUC: 0.9887 - PR-AUC: 0.9606 - precision: 0.9418 - recall: 0.8938 - TP: 9796.0000 - TN: 240515.0000 - FP: 605.0000 - FN: 1164.0000 - val_loss: 0.0423 - val_categorical_accuracy: 0.9873 - val_top-3: 0.9982 - val_ROC-AUC: 0.9998 - val_PR-AUC: 0.9990 - val_precision: 0.9916 - val_recall: 0.9837 - val_TP: 2711.0000 - val_TN: 60609.0000 - val_FP: 23.0000 - val_FN: 45.0000\n",
      "Epoch 2/20\n",
      "343/343 [==============================] - 23s 67ms/step - loss: 0.1583 - categorical_accuracy: 0.9540 - top-3: 0.9918 - ROC-AUC: 0.9965 - PR-AUC: 0.9862 - precision: 0.9607 - recall: 0.9512 - TP: 10425.0000 - TN: 240694.0000 - FP: 426.0000 - FN: 535.0000 - val_loss: 0.0865 - val_categorical_accuracy: 0.9782 - val_top-3: 0.9953 - val_ROC-AUC: 0.9975 - val_PR-AUC: 0.9932 - val_precision: 0.9793 - val_recall: 0.9779 - val_TP: 2695.0000 - val_TN: 60575.0000 - val_FP: 57.0000 - val_FN: 61.0000\n",
      "Epoch 3/20\n",
      "343/343 [==============================] - 96s 282ms/step - loss: 0.1883 - categorical_accuracy: 0.9516 - top-3: 0.9908 - ROC-AUC: 0.9940 - PR-AUC: 0.9799 - precision: 0.9565 - recall: 0.9494 - TP: 10405.0000 - TN: 240647.0000 - FP: 473.0000 - FN: 555.0000 - val_loss: 0.0795 - val_categorical_accuracy: 0.9782 - val_top-3: 0.9931 - val_ROC-AUC: 0.9984 - val_PR-AUC: 0.9948 - val_precision: 0.9853 - val_recall: 0.9746 - val_TP: 2686.0000 - val_TN: 60592.0000 - val_FP: 40.0000 - val_FN: 70.0000\n",
      "Epoch 4/20\n",
      "343/343 [==============================] - 174s 506ms/step - loss: 0.1794 - categorical_accuracy: 0.9587 - top-3: 0.9911 - ROC-AUC: 0.9943 - PR-AUC: 0.9818 - precision: 0.9622 - recall: 0.9569 - TP: 10488.0000 - TN: 240708.0000 - FP: 412.0000 - FN: 472.0000 - val_loss: 0.0331 - val_categorical_accuracy: 0.9920 - val_top-3: 0.9982 - val_ROC-AUC: 0.9992 - val_PR-AUC: 0.9978 - val_precision: 0.9931 - val_recall: 0.9909 - val_TP: 2731.0000 - val_TN: 60613.0000 - val_FP: 19.0000 - val_FN: 25.0000\n",
      "Epoch 5/20\n",
      "343/343 [==============================] - 70s 204ms/step - loss: 0.1018 - categorical_accuracy: 0.9734 - top-3: 0.9960 - ROC-AUC: 0.9971 - PR-AUC: 0.9908 - precision: 0.9766 - recall: 0.9716 - TP: 10649.0000 - TN: 240865.0000 - FP: 255.0000 - FN: 311.0000 - val_loss: 0.0438 - val_categorical_accuracy: 0.9931 - val_top-3: 0.9971 - val_ROC-AUC: 0.9983 - val_PR-AUC: 0.9960 - val_precision: 0.9945 - val_recall: 0.9927 - val_TP: 2736.0000 - val_TN: 60617.0000 - val_FP: 15.0000 - val_FN: 20.0000\n",
      "Epoch 6/20\n",
      "343/343 [==============================] - 23s 66ms/step - loss: 0.1402 - categorical_accuracy: 0.9731 - top-3: 0.9961 - ROC-AUC: 0.9955 - PR-AUC: 0.9850 - precision: 0.9749 - recall: 0.9724 - TP: 10657.0000 - TN: 240846.0000 - FP: 274.0000 - FN: 303.0000 - val_loss: 0.0532 - val_categorical_accuracy: 0.9891 - val_top-3: 0.9971 - val_ROC-AUC: 0.9985 - val_PR-AUC: 0.9955 - val_precision: 0.9927 - val_recall: 0.9888 - val_TP: 2725.0000 - val_TN: 60612.0000 - val_FP: 20.0000 - val_FN: 31.0000\n",
      "Epoch 7/20\n",
      "343/343 [==============================] - 23s 67ms/step - loss: 0.1673 - categorical_accuracy: 0.9684 - top-3: 0.9959 - ROC-AUC: 0.9939 - PR-AUC: 0.9797 - precision: 0.9704 - recall: 0.9675 - TP: 10604.0000 - TN: 240796.0000 - FP: 324.0000 - FN: 356.0000 - val_loss: 0.1019 - val_categorical_accuracy: 0.9826 - val_top-3: 0.9946 - val_ROC-AUC: 0.9968 - val_PR-AUC: 0.9904 - val_precision: 0.9854 - val_recall: 0.9819 - val_TP: 2706.0000 - val_TN: 60592.0000 - val_FP: 40.0000 - val_FN: 50.0000\n",
      "Epoch 8/20\n",
      "343/343 [==============================] - 23s 67ms/step - loss: 0.1771 - categorical_accuracy: 0.9684 - top-3: 0.9947 - ROC-AUC: 0.9939 - PR-AUC: 0.9809 - precision: 0.9709 - recall: 0.9672 - TP: 10600.0000 - TN: 240802.0000 - FP: 318.0000 - FN: 360.0000 - val_loss: 0.0989 - val_categorical_accuracy: 0.9873 - val_top-3: 0.9971 - val_ROC-AUC: 0.9970 - val_PR-AUC: 0.9915 - val_precision: 0.9873 - val_recall: 0.9873 - val_TP: 2721.0000 - val_TN: 60597.0000 - val_FP: 35.0000 - val_FN: 35.0000\n",
      "Epoch 9/20\n",
      "343/343 [==============================] - 31s 89ms/step - loss: 0.1149 - categorical_accuracy: 0.9771 - top-3: 0.9953 - ROC-AUC: 0.9964 - PR-AUC: 0.9889 - precision: 0.9789 - recall: 0.9764 - TP: 10701.0000 - TN: 240889.0000 - FP: 231.0000 - FN: 259.0000 - val_loss: 0.0677 - val_categorical_accuracy: 0.9877 - val_top-3: 0.9982 - val_ROC-AUC: 0.9978 - val_PR-AUC: 0.9939 - val_precision: 0.9887 - val_recall: 0.9873 - val_TP: 2721.0000 - val_TN: 60601.0000 - val_FP: 31.0000 - val_FN: 35.0000\n",
      "Epoch 10/20\n",
      "343/343 [==============================] - 29s 84ms/step - loss: 0.1005 - categorical_accuracy: 0.9828 - top-3: 0.9970 - ROC-AUC: 0.9967 - PR-AUC: 0.9899 - precision: 0.9836 - recall: 0.9822 - TP: 10765.0000 - TN: 240940.0000 - FP: 180.0000 - FN: 195.0000 - val_loss: 0.0390 - val_categorical_accuracy: 0.9931 - val_top-3: 0.9975 - val_ROC-AUC: 0.9989 - val_PR-AUC: 0.9973 - val_precision: 0.9942 - val_recall: 0.9920 - val_TP: 2734.0000 - val_TN: 60616.0000 - val_FP: 16.0000 - val_FN: 22.0000\n",
      "Epoch 11/20\n",
      "343/343 [==============================] - 24s 71ms/step - loss: 0.0940 - categorical_accuracy: 0.9844 - top-3: 0.9974 - ROC-AUC: 0.9972 - PR-AUC: 0.9916 - precision: 0.9862 - recall: 0.9833 - TP: 10777.0000 - TN: 240969.0000 - FP: 151.0000 - FN: 183.0000 - val_loss: 0.0301 - val_categorical_accuracy: 0.9938 - val_top-3: 0.9964 - val_ROC-AUC: 0.9989 - val_PR-AUC: 0.9980 - val_precision: 0.9967 - val_recall: 0.9938 - val_TP: 2739.0000 - val_TN: 60623.0000 - val_FP: 9.0000 - val_FN: 17.0000\n",
      "Epoch 12/20\n",
      "343/343 [==============================] - 26s 76ms/step - loss: 0.1654 - categorical_accuracy: 0.9767 - top-3: 0.9967 - ROC-AUC: 0.9942 - PR-AUC: 0.9813 - precision: 0.9773 - recall: 0.9765 - TP: 10702.0000 - TN: 240871.0000 - FP: 249.0000 - FN: 258.0000 - val_loss: 0.0805 - val_categorical_accuracy: 0.9888 - val_top-3: 0.9975 - val_ROC-AUC: 0.9970 - val_PR-AUC: 0.9916 - val_precision: 0.9895 - val_recall: 0.9884 - val_TP: 2724.0000 - val_TN: 60603.0000 - val_FP: 29.0000 - val_FN: 32.0000\n",
      "Epoch 13/20\n",
      "343/343 [==============================] - 27s 80ms/step - loss: 0.1189 - categorical_accuracy: 0.9833 - top-3: 0.9975 - ROC-AUC: 0.9959 - PR-AUC: 0.9864 - precision: 0.9841 - recall: 0.9830 - TP: 10774.0000 - TN: 240946.0000 - FP: 174.0000 - FN: 186.0000 - val_loss: 0.0833 - val_categorical_accuracy: 0.9902 - val_top-3: 0.9971 - val_ROC-AUC: 0.9968 - val_PR-AUC: 0.9907 - val_precision: 0.9916 - val_recall: 0.9902 - val_TP: 2729.0000 - val_TN: 60609.0000 - val_FP: 23.0000 - val_FN: 27.0000\n",
      "Epoch 14/20\n",
      "343/343 [==============================] - 28s 82ms/step - loss: 0.1086 - categorical_accuracy: 0.9849 - top-3: 0.9980 - ROC-AUC: 0.9960 - PR-AUC: 0.9873 - precision: 0.9859 - recall: 0.9840 - TP: 10785.0000 - TN: 240966.0000 - FP: 154.0000 - FN: 175.0000 - val_loss: 0.0507 - val_categorical_accuracy: 0.9913 - val_top-3: 0.9975 - val_ROC-AUC: 0.9987 - val_PR-AUC: 0.9958 - val_precision: 0.9927 - val_recall: 0.9906 - val_TP: 2730.0000 - val_TN: 60612.0000 - val_FP: 20.0000 - val_FN: 26.0000\n",
      "Epoch 15/20\n",
      "343/343 [==============================] - 29s 85ms/step - loss: 0.1050 - categorical_accuracy: 0.9873 - top-3: 0.9979 - ROC-AUC: 0.9971 - PR-AUC: 0.9907 - precision: 0.9881 - recall: 0.9869 - TP: 10816.0000 - TN: 240990.0000 - FP: 130.0000 - FN: 144.0000 - val_loss: 0.0794 - val_categorical_accuracy: 0.9938 - val_top-3: 0.9982 - val_ROC-AUC: 0.9978 - val_PR-AUC: 0.9941 - val_precision: 0.9938 - val_recall: 0.9938 - val_TP: 2739.0000 - val_TN: 60615.0000 - val_FP: 17.0000 - val_FN: 17.0000\n",
      "Epoch 16/20\n",
      "343/343 [==============================] - 29s 84ms/step - loss: 0.1238 - categorical_accuracy: 0.9829 - top-3: 0.9967 - ROC-AUC: 0.9959 - PR-AUC: 0.9872 - precision: 0.9844 - recall: 0.9823 - TP: 10766.0000 - TN: 240949.0000 - FP: 171.0000 - FN: 194.0000 - val_loss: 0.0745 - val_categorical_accuracy: 0.9917 - val_top-3: 0.9960 - val_ROC-AUC: 0.9983 - val_PR-AUC: 0.9956 - val_precision: 0.9945 - val_recall: 0.9913 - val_TP: 2732.0000 - val_TN: 60617.0000 - val_FP: 15.0000 - val_FN: 24.0000\n",
      "Epoch 17/20\n",
      "343/343 [==============================] - 24s 70ms/step - loss: 0.0811 - categorical_accuracy: 0.9885 - top-3: 0.9976 - ROC-AUC: 0.9970 - PR-AUC: 0.9911 - precision: 0.9893 - recall: 0.9882 - TP: 10831.0000 - TN: 241003.0000 - FP: 117.0000 - FN: 129.0000 - val_loss: 0.0557 - val_categorical_accuracy: 0.9927 - val_top-3: 0.9989 - val_ROC-AUC: 0.9983 - val_PR-AUC: 0.9953 - val_precision: 0.9931 - val_recall: 0.9927 - val_TP: 2736.0000 - val_TN: 60613.0000 - val_FP: 19.0000 - val_FN: 20.0000\n",
      "Epoch 18/20\n",
      "343/343 [==============================] - 25s 73ms/step - loss: 0.1378 - categorical_accuracy: 0.9833 - top-3: 0.9979 - ROC-AUC: 0.9956 - PR-AUC: 0.9855 - precision: 0.9845 - recall: 0.9829 - TP: 10773.0000 - TN: 240950.0000 - FP: 170.0000 - FN: 187.0000 - val_loss: 0.0983 - val_categorical_accuracy: 0.9877 - val_top-3: 0.9982 - val_ROC-AUC: 0.9968 - val_PR-AUC: 0.9902 - val_precision: 0.9887 - val_recall: 0.9877 - val_TP: 2722.0000 - val_TN: 60601.0000 - val_FP: 31.0000 - val_FN: 34.0000\n",
      "Epoch 19/20\n",
      "343/343 [==============================] - 26s 75ms/step - loss: 0.1021 - categorical_accuracy: 0.9866 - top-3: 0.9980 - ROC-AUC: 0.9963 - PR-AUC: 0.9884 - precision: 0.9876 - recall: 0.9860 - TP: 10807.0000 - TN: 240984.0000 - FP: 136.0000 - FN: 153.0000 - val_loss: 0.0417 - val_categorical_accuracy: 0.9938 - val_top-3: 0.9989 - val_ROC-AUC: 0.9989 - val_PR-AUC: 0.9966 - val_precision: 0.9949 - val_recall: 0.9927 - val_TP: 2736.0000 - val_TN: 60618.0000 - val_FP: 14.0000 - val_FN: 20.0000\n",
      "Epoch 20/20\n",
      "343/343 [==============================] - 23s 68ms/step - loss: 0.0757 - categorical_accuracy: 0.9905 - top-3: 0.9983 - ROC-AUC: 0.9976 - PR-AUC: 0.9927 - precision: 0.9915 - recall: 0.9899 - TP: 10849.0000 - TN: 241027.0000 - FP: 93.0000 - FN: 111.0000 - val_loss: 0.0729 - val_categorical_accuracy: 0.9920 - val_top-3: 0.9971 - val_ROC-AUC: 0.9974 - val_PR-AUC: 0.9916 - val_precision: 0.9935 - val_recall: 0.9920 - val_TP: 2734.0000 - val_TN: 60614.0000 - val_FP: 18.0000 - val_FN: 22.0000\n",
      "Model saved successfully to model/mobilenetv2_epoch20_model.h5\n"
     ]
    },
    {
     "data": {
      "text/plain": [
       "<keras.callbacks.History at 0x272b05d95a0>"
      ]
     },
     "execution_count": 6,
     "metadata": {},
     "output_type": "execute_result"
    }
   ],
   "source": [
    "transfer_model.train(num_epochs=20, save_filename='model/mobilenetv2_epoch20_model.h5')"
   ]
  }
 ],
 "metadata": {
  "kernelspec": {
   "display_name": "base",
   "language": "python",
   "name": "python3"
  },
  "language_info": {
   "codemirror_mode": {
    "name": "ipython",
    "version": 3
   },
   "file_extension": ".py",
   "mimetype": "text/x-python",
   "name": "python",
   "nbconvert_exporter": "python",
   "pygments_lexer": "ipython3",
   "version": "3.10.9"
  },
  "orig_nbformat": 4
 },
 "nbformat": 4,
 "nbformat_minor": 2
}
